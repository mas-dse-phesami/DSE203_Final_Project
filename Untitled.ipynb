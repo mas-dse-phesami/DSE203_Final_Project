{
 "cells": [
  {
   "cell_type": "code",
   "execution_count": 243,
   "metadata": {
    "collapsed": false
   },
   "outputs": [],
   "source": [
    "import re\n",
    "columns = [\"eventid\", \"iyear\", \"imonth\", \"iday\", \"approxdate\", \"extended\", \"resolution\", \"country\", \"country_txt\", \"region\", \"region_txt\", \"\\\n",
    "    provstate\", \"city\", \"latitude\", \"longitude\", \"specificity\", \"vicinity\", \"location\", \"summary\", \"crit1\", \"crit2\", \"crit3\", \"doubtterr\", \"\\\n",
    "    alternative\", \"alternative_txt\", \"multiple\", \"success\", \"suicide\", \"attacktype1\", \"attacktype1_txt\", \"attacktype2\", \"\\\n",
    "    attacktype2_txt\", \"attacktype3\", \"attacktype3_txt\", \"targtype1\", \"targtype1_txt\", \"targsubtype1\", \"targsubtype1_txt\", \"\\\n",
    "    corp1\", \"target1\", \"natlty1\", \"natlty1_txt\", \"targtype2\", \"targtype2_txt\", \"targsubtype2\", \"targsubtype2_txt\", \"corp2\", \"target2\", \"\\\n",
    "    natlty2\", \"natlty2_txt\", \"targtype3\", \"targtype3_txt\", \"targsubtype3\", \"targsubtype3_txt\", \"corp3\", \"target3\", \"natlty3\", \"\\\n",
    "    natlty3_txt\", \"gname\", \"gsubname\", \"gname2\", \"gsubname2\", \"gname3\", \"ingroup\", \"ingroup2\", \"ingroup3\", \"gsubname3\", \"motive\", \"\\\n",
    "    guncertain1\", \"guncertain2\", \"guncertain3\", \"nperps\", \"nperpcap\", \"claimed\", \"claimmode\", \"claimmode_txt\", \"claim2\", \"claimmode2\", \"\\\n",
    "    claimmode2_txt\", \"claim3\", \"claimmode3\", \"claimmode3_txt\", \"compclaim\", \"weaptype1\", \"weaptype1_txt\", \"weapsubtype1\", \"\\\n",
    "    weapsubtype1_txt\", \"weaptype2\", \"weaptype2_txt\", \"weapsubtype2\", \"weapsubtype2_txt\", \"weaptype3\", \"weaptype3_txt\", \"\\\n",
    "    weapsubtype3\", \"weapsubtype3_txt\", \"weaptype4\", \"weaptype4_txt\", \"weapsubtype4\", \"weapsubtype4_txt\", \"weapdetail\", \"\\\n",
    "    nkill\", \"nkillus\", \"nkillter\", \"nwound\", \"nwoundus\", \"nwoundte\", \"property\", \"propextent\", \"propextent_txt\", \"propvalue\", \"\\\n",
    "    propcomment\", \"ishostkid\", \"nhostkid\", \"nhostkidus\", \"nhours\", \"ndays\", \"divert\", \"kidhijcountry\", \"ransom\", \"ransomamt\", \"\\\n",
    "    ransomamtus\", \"ransompaid\", \"ransompaidus\", \"ransomnote\", \"hostkidoutcome\", \"hostkidoutcome_txt\", \"nreleased\", \"addnotes\", \"\\\n",
    "    scite1\", \"scite2\", \"scite3\", \"dbsource\", \"INT_LOG\", \"INT_IDEO\", \"INT_MISC\", \"INT_ANY\", \"related\"]\n",
    "\n",
    "datalog_str = \"DB1(s1) :- GTD(_, T1, _, _, _, _, _, _, _, _, _, _, _, _, _, _, _, _, s1, _, _, _, _, _, _, _, _, _, \\\n",
    "_, _, _,_, _, _, _, _, _, _, _, _, _, _, _, _, _, _, _, _, _, _, _, _, _, _, _, _, _, _, _, _, _,\\\n",
    "'Taliban', _, _, _, _, _, _, _, _, _, _, _, _, _, _, _, _, _, _, _, _, _, _, _, _, _, _, _, _, _, _, _, _, _, _, _,\\\n",
    "_, _, _, _, _, _, _, _, _, _, _, _, _, _, _, _, _, _, _, _, _, _, _, _, _, _, _, _, _, _, _, _, _, _, _, _,\\\n",
    "_, _, _, _), T1<= 2014, T1 >= 2013\"\n",
    "\n",
    "separator = \":-\"\n",
    "dummy = \"_\"\n",
    "allowed_comparisons = '=|!=|>|<|<=|>='\n",
    "\n",
    "#seperate the left and right side of the datalog string input\n",
    "left = datalog_str.split(separator )[0]\n",
    "right = datalog_str.split(separator )[1]\n",
    "\n",
    "return_table = left[:left.find(\"(\")]\n",
    "return_select = [c.strip() for c in left[left.find(\"(\")+1:left.find(\")\")].split(',')]\n",
    "\n",
    "from_table = right.split('(')[0]\n",
    "query = [q.strip() for q in right[right.find(\"(\")+1:right.find(\")\")].split(',')]\n",
    "predicates_constraint_all = [q.strip() for q in right[right.find(\")\"):].split(',')][1:]\n",
    "predicates_constraint_dict= {}\n",
    "predicates_constraint_dict= {}\n",
    "i=0\n",
    "for p in predicates_constraint_all:\n",
    "    i+=1\n",
    "    operator = re.findall(r'(['+allowed_comparisons + ']+)',p)[0].strip()\n",
    "    key = p[:p.find(operator)].strip()\n",
    "    value =  p[p.find(operator)+len(operator):].strip()\n",
    "    predicates_constraint_dict[key+'_'+str(i)] = [operator, value]\n",
    "    \n",
    "\n",
    "predicates= {}\n",
    "select = {}\n",
    "index=0\n",
    "for q in query:\n",
    "    if (q!=dummy and (q not in return_select)):\n",
    "        predicates[columns[index]]= q\n",
    "    if (q!=dummy and (q in return_select)):\n",
    "        select[columns[index]]= q\n",
    "    index+=1\n",
    "    \n",
    "where_equality ={}\n",
    "where_inequality = {}\n",
    "for key, value in predicates.iteritems():\n",
    "    if value[0]==\"'\":\n",
    "        where_equality [key] = value\n",
    "    else:\n",
    "        where_inequality [value] = key"
   ]
  },
  {
   "cell_type": "code",
   "execution_count": 244,
   "metadata": {
    "collapsed": false
   },
   "outputs": [],
   "source": [
    "create_view_clause = \"CREATE VIEW \"+return_table+ \" AS\"\n",
    "select_clause = \"SELECT \"+ \", \".join(x+\" AS \"+y for x,y in select.iteritems())\n",
    "from_clause = \"FROM \"+ from_table\n",
    "where_clause = \"WHERE \"+\", \".join(x+\" = \"+y for x,y in where_equality.iteritems())+ ', '+\\\n",
    "\", \".join(where_inequality[x[:x.find('_')]]+y+z for x,[y,z] in predicates_constraint_dict.iteritems())"
   ]
  },
  {
   "cell_type": "code",
   "execution_count": 245,
   "metadata": {
    "collapsed": false
   },
   "outputs": [
    {
     "name": "stdout",
     "output_type": "stream",
     "text": [
      "CREATE VIEW DB1 AS \n",
      "SELECT summary AS s1 \n",
      "FROM  GTD \n",
      "WHERE gsubname2 = 'Taliban', iyear<=2014, iyear>=2013\n"
     ]
    }
   ],
   "source": [
    "print create_view_clause, '\\n', select_clause, '\\n', from_clause, \"\\n\", where_clause "
   ]
  }
 ],
 "metadata": {
  "anaconda-cloud": {},
  "kernelspec": {
   "display_name": "Python [conda root]",
   "language": "python",
   "name": "conda-root-py"
  },
  "language_info": {
   "codemirror_mode": {
    "name": "ipython",
    "version": 2
   },
   "file_extension": ".py",
   "mimetype": "text/x-python",
   "name": "python",
   "nbconvert_exporter": "python",
   "pygments_lexer": "ipython2",
   "version": "2.7.12"
  }
 },
 "nbformat": 4,
 "nbformat_minor": 1
}
